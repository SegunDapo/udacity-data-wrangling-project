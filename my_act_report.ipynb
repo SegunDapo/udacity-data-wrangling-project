{
 "cells": [
  {
   "cell_type": "markdown",
   "metadata": {
    "extensions": {
     "jupyter_dashboards": {
      "version": 1,
      "views": {
       "grid_default": {
        "col": 0,
        "height": 4,
        "hidden": false,
        "row": 0,
        "width": 4
       },
       "report_default": {
        "hidden": false
       }
      }
     }
    }
   },
   "source": [
    "# Act Report"
   ]
  },
  {
   "cell_type": "markdown",
   "metadata": {},
   "source": [
    "## Analyzing and Visualizing Data\n",
    "* The clean and final DataFrame contains 1912 observations. The key information includes __'timestamp','tweet_id', 'rate_num', 'rate_denom', 'name', 'retweet_count', 'favorite_count', 'p1', 'p2', and 'p3'.__\n",
    "\n",
    "\n",
    "* In this section, I analyzed and visualized my wrangled data. I tried to produce at least **Five (5) insights and Five (5) visualization.**\n",
    "\n",
    "\n",
    "* I would also take the final DataFrame and set the index to the **timestamp column** in order to gather some time series analysis, because Twitter data is very time specific and it would be nice to visually see changes that occured over time."
   ]
  },
  {
   "cell_type": "markdown",
   "metadata": {},
   "source": [
    "#### Basic Statistics"
   ]
  },
  {
   "cell_type": "markdown",
   "metadata": {},
   "source": [
    "![title](basic_statistics.png)"
   ]
  },
  {
   "cell_type": "markdown",
   "metadata": {},
   "source": [
    "* for columns p1_conf, p2_conf, and p3_conf, the numbers are in the bounds from 0 to 1, which is good because they are confidence intervals and are bound between 0 and 1. __p1_conf__ has a higher average than __p2_conf__ and so forth, and their max and min are higher in both categories respectively. Hence, my decision to use the p1 variable in my further analyssis.\n",
    "\n",
    "> * I believe this suggests that the neural network developed to identify the breed of dog works effectively because \"p1\", \"p2\" and \"p3\" are the predictions in succession. Indicating the __first prediction (p1)__ has a higher confidence of being correct than the following predictions."
   ]
  },
  {
   "cell_type": "markdown",
   "metadata": {},
   "source": [
    "#### Checked the columns with outliers"
   ]
  },
  {
   "cell_type": "markdown",
   "metadata": {},
   "source": [
    "#### Skimmed away the Outliers\n",
    "\n",
    "* From the variable description above, some of the numerators in the rate_num column are extraordinarily high and above 10 for the denominator, hence, my decision to skim away outliers. As well as for the retweet_count column."
   ]
  },
  {
   "cell_type": "markdown",
   "metadata": {},
   "source": [
    "### Correlation"
   ]
  },
  {
   "cell_type": "markdown",
   "metadata": {},
   "source": [
    "![title](correlation.png)"
   ]
  },
  {
   "cell_type": "markdown",
   "metadata": {},
   "source": [
    "* The correlation chart is useful for finding connections between variables.\n",
    "\n",
    "\n",
    "* The correlation coefficient beteen retweet_count and favorite_count is 0.904492, which is close to 1 and positive demonstrating a strong positive correlation bewteen those two metrics."
   ]
  },
  {
   "cell_type": "markdown",
   "metadata": {
    "collapsed": true
   },
   "source": [
    "### Visualization"
   ]
  },
  {
   "cell_type": "markdown",
   "metadata": {},
   "source": [
    "#### 1. What dog stage got most retweets?"
   ]
  },
  {
   "cell_type": "markdown",
   "metadata": {},
   "source": [
    "![title](most_rtw.png)"
   ]
  },
  {
   "cell_type": "markdown",
   "metadata": {},
   "source": [
    "> * __Doggo__ has the most retweets on the average."
   ]
  },
  {
   "cell_type": "markdown",
   "metadata": {},
   "source": [
    "#### 2. What dog stage got most favourites?"
   ]
  },
  {
   "cell_type": "markdown",
   "metadata": {},
   "source": [
    "![title](dog_st.png)"
   ]
  },
  {
   "cell_type": "markdown",
   "metadata": {},
   "source": [
    "> * __Doggo__ has the highest favourites again on the average, this tells us that most people love this dog stage."
   ]
  },
  {
   "cell_type": "markdown",
   "metadata": {},
   "source": [
    "#### 3. What dog stage got most ratings?"
   ]
  },
  {
   "cell_type": "markdown",
   "metadata": {},
   "source": [
    "![title](dog_ra.png)"
   ]
  },
  {
   "cell_type": "markdown",
   "metadata": {},
   "source": [
    "> * From the view of the bar chart, pupper has a lower rating than every other dog stages on the average."
   ]
  },
  {
   "cell_type": "markdown",
   "metadata": {},
   "source": [
    "#### 4. What is the 10 most favourited dog breeds?"
   ]
  },
  {
   "cell_type": "markdown",
   "metadata": {},
   "source": [
    "![title](most_fav.png)"
   ]
  },
  {
   "cell_type": "markdown",
   "metadata": {},
   "source": [
    "> * __tusker__ is the most favorited dog breed on the average and the above charts show the other top 9."
   ]
  },
  {
   "cell_type": "markdown",
   "metadata": {},
   "source": [
    "#### 5. What is the top 10 most retweeted Dog breeds?"
   ]
  },
  {
   "cell_type": "markdown",
   "metadata": {},
   "source": [
    "![title](most_av_rtw.png)"
   ]
  },
  {
   "cell_type": "markdown",
   "metadata": {},
   "source": [
    "> * __dough__ is the most averagely retweeted dog breed."
   ]
  },
  {
   "cell_type": "markdown",
   "metadata": {},
   "source": [
    "#### 6. What are the top 6 names that these dogs are named?\n",
    "> * In case a person needs beautiful suggestion to name his/her dog"
   ]
  },
  {
   "cell_type": "markdown",
   "metadata": {},
   "source": [
    "![title](dog_name.png)"
   ]
  },
  {
   "cell_type": "markdown",
   "metadata": {},
   "source": [
    "> * __Charlie__ is the most commong dog name based on the available dataset"
   ]
  },
  {
   "cell_type": "markdown",
   "metadata": {},
   "source": [
    "#### 7. The Distribution of Dog ratings"
   ]
  },
  {
   "cell_type": "markdown",
   "metadata": {},
   "source": [
    "![title](dog_distr.png)"
   ]
  },
  {
   "cell_type": "markdown",
   "metadata": {},
   "source": [
    "> * Most of the dog ratings are 12, then followed by 10, then 11. These are the top 3 ratings in descending order."
   ]
  },
  {
   "cell_type": "markdown",
   "metadata": {},
   "source": [
    "#### 8. Checking Trends"
   ]
  },
  {
   "cell_type": "markdown",
   "metadata": {},
   "source": [
    "![title](mnth_int.png)"
   ]
  },
  {
   "cell_type": "markdown",
   "metadata": {},
   "source": [
    "> The time series code above was modeled after a blog post Tutorial about Time Series Analysis with Pandas. https://www.dataquest.io/blog/tutorial-time-series-analysis-with-pandas/"
   ]
  },
  {
   "cell_type": "markdown",
   "metadata": {},
   "source": [
    "#### 9. Checking for Dog breeds Vs Retweets"
   ]
  },
  {
   "cell_type": "markdown",
   "metadata": {},
   "source": [
    "![title](dog_brd.png)"
   ]
  },
  {
   "cell_type": "markdown",
   "metadata": {},
   "source": [
    "#### 10. Checking for Stages Vs Retweets"
   ]
  },
  {
   "cell_type": "markdown",
   "metadata": {},
   "source": [
    "![title](dog_stg_rtw.png)"
   ]
  },
  {
   "cell_type": "markdown",
   "metadata": {},
   "source": [
    "### Word Cloud with Tweets\n",
    "* A word cloud is a fun tool that lets user take the most frequently used words from a text, in this case, the tweets used in the dataset, and display in the image of a house."
   ]
  },
  {
   "cell_type": "markdown",
   "metadata": {},
   "source": [
    "![title](word_cloud.png)"
   ]
  },
  {
   "cell_type": "markdown",
   "metadata": {},
   "source": [
    "### Insights:\n",
    "1. Among the 4 dog stages, __pupper__ has the highest frequency, but __doggo__ gets the highest favourite count, while __floofer__ has the highest dog rating.\n",
    "\n",
    "\n",
    "2. Though __pupper__ has the highest frequency, it gets the lowest favorite counts, retweet counts and ratings.\n",
    "\n",
    "\n",
    "3. As seen again (just as mentioned before), with this timeseries chart above, the favorite_count and retweet_count are positively correlated with one another.  And I think this is due to the fact that most people retweet 'tweets' that they like in order for others to see it.  *It is like 'free advertising' for the 'tweet' itself and shows people on your feed what you're interested in. It's a sharing feature when you want others to see something you've read/seen.*\n",
    "\n",
    "\n",
    "4. According to the chart, there are 3 spikes at specific times of year, those being, the middle of spring into summer, and then the Christmas/Holiday time. This is most likely due to the fact that people with dogs are more active in the warmer months, posting cute things their dog is doing outside. Also, during the holidays, they are more likely to share pics/etc about things they care about during this time i.e. their dogs.\n",
    "\n",
    "5. The overall trend of the counts shows the popularity of this twitter page slowly growing overtime. If the number of followers were taken into account, it would most likely show a similar trend since the twitter account is getting more \"air time.\""
   ]
  },
  {
   "cell_type": "markdown",
   "metadata": {},
   "source": [
    "## Conclusions\n",
    "\n",
    "* In conclusion, I find that doggo has the highest retweets and favourites on a average. while pupper has the highest frequency and floofer has the highest dog rating. All dog stages have almost similar ratings by owner of @dog_rates between 1.0 - 1.17.\n",
    "\n",
    "* On the average also, __tusker__ is the most favourited dog breed, but __dough__ is the most retweeted, and lastly there is a lot of common words such as: Say hello, happy, Meet, love and so on"
   ]
  }
 ],
 "metadata": {
  "extensions": {
   "jupyter_dashboards": {
    "activeView": "report_default",
    "version": 1,
    "views": {
     "grid_default": {
      "cellMargin": 10,
      "defaultCellHeight": 20,
      "maxColumns": 12,
      "name": "grid",
      "type": "grid"
     },
     "report_default": {
      "name": "report",
      "type": "report"
     }
    }
   }
  },
  "kernelspec": {
   "display_name": "Python 3",
   "language": "python",
   "name": "python3"
  },
  "language_info": {
   "codemirror_mode": {
    "name": "ipython",
    "version": 3
   },
   "file_extension": ".py",
   "mimetype": "text/x-python",
   "name": "python",
   "nbconvert_exporter": "python",
   "pygments_lexer": "ipython3",
   "version": "3.6.3"
  }
 },
 "nbformat": 4,
 "nbformat_minor": 2
}
