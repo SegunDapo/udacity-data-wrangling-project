{
 "cells": [
  {
   "cell_type": "markdown",
   "metadata": {
    "extensions": {
     "jupyter_dashboards": {
      "version": 1,
      "views": {
       "grid_default": {
        "col": 0,
        "height": 4,
        "hidden": false,
        "row": 0,
        "width": 4
       },
       "report_default": {
        "hidden": false
       }
      }
     }
    }
   },
   "source": [
    "# Wrangling Report\n",
    "\n",
    "### June 28, 2022."
   ]
  },
  {
   "cell_type": "markdown",
   "metadata": {},
   "source": [
    "## Data Gathering\n",
    "I gathered **all** three pieces of data for this project and loaded them in the notebook."
   ]
  },
  {
   "cell_type": "markdown",
   "metadata": {},
   "source": [
    "### Read first data from project directory (Twitter archived enhanced that is a csv file) into Dataframe.\n",
    "* df_arc = pd.read_csv('twitter-archive-enhanced.csv')"
   ]
  },
  {
   "cell_type": "markdown",
   "metadata": {},
   "source": [
    "### Extract image data with tweet_id from provided url \n",
    "\n",
    "* using the Requests library and saved obtained data into an image_predictions.tsv then loaded into a DataFrame\n",
    "\n",
    "\n",
    "* df_img = pd.read_csv('image_predictions.tsv', sep='\\t')"
   ]
  },
  {
   "cell_type": "markdown",
   "metadata": {},
   "source": [
    "###  Use the Tweepy library to query additional data via the Twitter API (tweet_json.txt)"
   ]
  },
  {
   "cell_type": "markdown",
   "metadata": {},
   "source": [
    "### Checked the three DataFrames\n",
    "\n",
    "* df_arc.head()\n",
    "> head data of the archieved twitter data\n",
    "* df_img.head()\n",
    "> head data of the image twitter data\n",
    "* df_twt.head()\n",
    "> head data from twitter API\n"
   ]
  },
  {
   "cell_type": "markdown",
   "metadata": {},
   "source": [
    "#### Quality\n",
    "###### Archive (df_arc) Table\n",
    "\n",
    "* Missing values in columns: in_reply_to_status_id, in_reply_to_user_id, retweeted_status_id, retweeted_status_timestamp, and expanded_urls.\n",
    "* Column name floofer should be spelled 'floof'\n",
    "\n",
    "###### Image_pred (df_img) Table\n",
    "* The type of dogs in columns p1, p2 and p3 had some uppercase and lowerccase letters\n",
    "\n",
    "#### Tidiness\n",
    "* The column text had multiple variables like a url link, rating, and some tweets represented two dogs.\n",
    "* The tweet_count and archive table should be merged as this is related data."
   ]
  },
  {
   "cell_type": "markdown",
   "metadata": {},
   "source": [
    "### Assessment Summary\n",
    "\n",
    "#### Quality Issues\n",
    "\n",
    "#### Archive Table (df_arc)\n",
    "1. Missing values in columns: __in_reply_to_status_id__, __in_reply_to_user_id__, __retweeted_status_id__, __retweeted_status_user_id__, __retweeted_status_timestamp__, and __expanded_urls__.\n",
    "2. Column name __floofer__ should be spelled __'floof'__ (but entire column values can be left as floofer)\n",
    "3. __tweet_id__ has dtype int64 and should be object\n",
    "4. __timestamp__ should be a datetime64 dtype type as well\n",
    "5. Missing information for dog stages.\n",
    "6. Many missing names from the list under __'Name'__, and random names like __'a'__ and __'an'__ might be parts of strings that got taken out of context.\n",
    "7. Remove from table retweets and replies keepng only original tweets.\n",
    "8. Some tweets had __\"\\&amp\"__ combined with \";\" which is the html code to display just the ampersand, so that needs to be cleaned up.\n",
    "9. Some records have more than one dog stage\n",
    "10. Rating_numerator column has values less than 10 (e.g 0, 7) as well as some very large numbers (e.g. 130, 110)\n",
    "11. Rating_denominator column has values way other than 10 (way higher than 10)\n",
    "\n",
    "#### Image prediction table (df_img)\n",
    "1. The types of dogs in columns __p1__, __p2__, and __p3__ had some uppercase and lowercase letters.\n",
    "2. The __tweet_id__ column should be dtype object instead of int64.\n",
    "\n",
    "#### Tweet count table (df_twt)\n",
    "1. The column __id_str__ should be changed to __tweet_id__ so merging tables will be smoother.\n",
    "\n",
    "#### Tidiness Issues\n",
    "1. The __tweet_count(df_twt)__  data (retweet_count and favorite_count) should be merged into the __twitter-archive-enhanced(df_arc)__ table as it is the added data for the __twitter-archive-enhanced__ table.\n",
    "2. The __source__ column in the twitter-archive-enhanced table looks messy and clutters the table.\n",
    "3. __doggo__, __floofer__, __pupper__, __puppo__ columns in __twitter_archive_enhanced__ table should be in one column named __Stage__.\n",
    "4.  __df_arc__ without any duplicates (i.e. retweets) will have empty __retweeted_status_id__, __retweeted_status_user_id__ and __retweeted_status_timestamp__ columns, which can be dropped.\n",
    "5. __\"Breed\"__ column should be added in __df_arc__ table; its values based on __p1_conf__ and __p1_dog__ columns of __df_img__ (image predictions) table\n",
    "6. All three tables will eventually be merged into one."
   ]
  },
  {
   "cell_type": "markdown",
   "metadata": {
    "extensions": {
     "jupyter_dashboards": {
      "version": 1,
      "views": {
       "grid_default": {
        "col": 4,
        "height": 4,
        "hidden": false,
        "row": 32,
        "width": 4
       },
       "report_default": {
        "hidden": false
       }
      }
     }
    }
   },
   "source": [
    "## Cleaning Data\n",
    "In this section, I cleaned **all** the issues I documented while assessing. \n",
    "\n",
    "I noted to make copies of each table first before cleaning as follows: df_arc, df_img, df_twt as arc_cl, img_cl, twt_cl."
   ]
  },
  {
   "cell_type": "markdown",
   "metadata": {},
   "source": [
    "### Issue #1: Some columns have missing values are some columns are not neccessary in my future analysis."
   ]
  },
  {
   "cell_type": "markdown",
   "metadata": {},
   "source": [
    "#### Define: \n",
    "Delete retweets and observations without ID, columns with missing values and delete unncessary columns: __'retweeted_status_id','retweeted_status_user_id','retweeted_status_timestamp', 'in_reply_to_status_id', 'source', 'expanded_urls', 'in_reply_to_user_id'.__"
   ]
  },
  {
   "cell_type": "markdown",
   "metadata": {},
   "source": [
    "### Issue #2: There are ratings that do not have images, I only want ratings with images. "
   ]
  },
  {
   "cell_type": "markdown",
   "metadata": {
    "collapsed": true,
    "extensions": {
     "jupyter_dashboards": {
      "version": 1,
      "views": {
       "grid_default": {
        "hidden": true
       },
       "report_default": {
        "hidden": true
       }
      }
     }
    }
   },
   "source": [
    "#### Define\n",
    "I would delete oobservations without images."
   ]
  },
  {
   "cell_type": "markdown",
   "metadata": {},
   "source": [
    "### Issue #3: Fix some column names\n",
    "* twt_cl: unify column names\n",
    "* arc_cl: fix column names"
   ]
  },
  {
   "cell_type": "markdown",
   "metadata": {},
   "source": [
    "#### Define\n",
    "* In the twt_cl table, the column name id_str would be changed to tweet_id using the rename() function.\n",
    "* In the arc_cl table, column name floofer should be \"floof\" to match the dog stage associated with it using the rename() function.\n",
    "* The columns rating_numerator and rating_denominator should be shortend to \"rate_num\" and \"rate_denom\" to make it less wordy."
   ]
  },
  {
   "cell_type": "markdown",
   "metadata": {},
   "source": [
    "### Issue #4: Fixing Datatypes.\n",
    "* img_cl: tweet_id dtype \"string\"\n",
    "* arc_cl: timestamp dtype \"datetime\"\n",
    "* arc_cl: tweet_id dtype \"string\""
   ]
  },
  {
   "cell_type": "markdown",
   "metadata": {},
   "source": [
    "#### Define\n",
    "* In the img_cl table, I would change the dtype of the tweet_id column from int64 to object using the astype() function.\n",
    "* In the arc_cl table, I would change the dtype of the timestamp column from object to datetime using pandas to_datetime() function.\n",
    "* In the arc_cl table, I would change the dtype of the tweet_id column from int64 to object using the astype() function."
   ]
  },
  {
   "cell_type": "markdown",
   "metadata": {},
   "source": [
    "### Issue #5: Uniform the dog breeds\n",
    "* Img_cl dataframe"
   ]
  },
  {
   "cell_type": "markdown",
   "metadata": {},
   "source": [
    "#### Define\n",
    "* In the img_cl table, all the names of the dogbreeds in the __p1, p2, and p3__ would be converted to lowercase letters."
   ]
  },
  {
   "cell_type": "markdown",
   "metadata": {},
   "source": [
    "### Issue #6: Clean up text column in arc_cl dataframe"
   ]
  },
  {
   "cell_type": "markdown",
   "metadata": {},
   "source": [
    "#### Define\n",
    "* In the arc_cl table, I would change the html ampersand code from \"&amp ;\" to \"&\" in the text column\n",
    "* I would alos remove the \"/n \" the newline symbol\n",
    "* and also remove ending url link."
   ]
  },
  {
   "cell_type": "markdown",
   "metadata": {},
   "source": [
    "### Issue #7: Fix the ratings columns in the arc_cl table"
   ]
  },
  {
   "cell_type": "markdown",
   "metadata": {},
   "source": [
    "#### Define\n",
    "* In the arc_cl table, I would use methods like such as extractall(), query(), contains(), etc to check for misextraction of the ratings."
   ]
  },
  {
   "cell_type": "markdown",
   "metadata": {},
   "source": [
    "### Issue #8: Remove data with double ratings"
   ]
  },
  {
   "cell_type": "markdown",
   "metadata": {},
   "source": [
    "#### Define\n",
    "* In the arc_cl table, there are some tweets with two dogs being rated, therefore those will be dropped because it violates the rules of tidiness."
   ]
  },
  {
   "cell_type": "markdown",
   "metadata": {},
   "source": [
    "### Issue #9: Some records have more than one dog"
   ]
  },
  {
   "cell_type": "markdown",
   "metadata": {},
   "source": [
    "#### Define\n",
    "\n",
    "* There is one record that has both doggo and floof\n",
    "* There is another record that has both doggo and puppo. \n",
    "> For these 2 records, I would take a look at the text manually to decide one dog stage for each of them. If I find ambiguous texts, I would set both the column values as None or drop the rows.\n",
    "\n",
    "* There are 10 records which have both doggo and pupper. I would also decide this from reading the text manually and setting the appropriate stage programmatically."
   ]
  },
  {
   "cell_type": "markdown",
   "metadata": {},
   "source": [
    "##### Drop rows with double dog stages\n",
    "* It is perceived as though they are two different dogs from my visual / manual investigation"
   ]
  },
  {
   "cell_type": "markdown",
   "metadata": {},
   "source": [
    "#### Also drop name rows with __'a'__ as their names"
   ]
  },
  {
   "cell_type": "markdown",
   "metadata": {},
   "source": [
    "### Issue #10: MERGE"
   ]
  },
  {
   "cell_type": "markdown",
   "metadata": {},
   "source": [
    "#### Define\n",
    "* Take both the arc_cl and twt_cl tables and merge into one table using the join() method on the columns tweet_id."
   ]
  },
  {
   "cell_type": "markdown",
   "metadata": {},
   "source": [
    "### Issue #11: FINAL MERGE"
   ]
  },
  {
   "cell_type": "markdown",
   "metadata": {},
   "source": [
    "#### Define\n",
    "* Take the newly tweet_data table and combine with the img_cl table using the same join() method on the tweet_id column."
   ]
  },
  {
   "cell_type": "markdown",
   "metadata": {},
   "source": [
    "### Issue #12: Removing missing Data"
   ]
  },
  {
   "cell_type": "markdown",
   "metadata": {},
   "source": [
    "#### Define\n",
    "* Removing the missing rows from the merged tables using the drop() method."
   ]
  },
  {
   "cell_type": "markdown",
   "metadata": {},
   "source": [
    "## Storing Data\n",
    "* Here I saved the gathered, assessed, and cleaned master dataset to a CSV file named \"twitter_archive_master.csv\""
   ]
  }
 ],
 "metadata": {
  "extensions": {
   "jupyter_dashboards": {
    "activeView": "report_default",
    "version": 1,
    "views": {
     "grid_default": {
      "cellMargin": 10,
      "defaultCellHeight": 20,
      "maxColumns": 12,
      "name": "grid",
      "type": "grid"
     },
     "report_default": {
      "name": "report",
      "type": "report"
     }
    }
   }
  },
  "kernelspec": {
   "display_name": "Python 3",
   "language": "python",
   "name": "python3"
  },
  "language_info": {
   "codemirror_mode": {
    "name": "ipython",
    "version": 3
   },
   "file_extension": ".py",
   "mimetype": "text/x-python",
   "name": "python",
   "nbconvert_exporter": "python",
   "pygments_lexer": "ipython3",
   "version": "3.6.3"
  }
 },
 "nbformat": 4,
 "nbformat_minor": 2
}
